{
 "cells": [
  {
   "cell_type": "code",
   "execution_count": 1,
   "id": "peripheral-tumor",
   "metadata": {},
   "outputs": [],
   "source": [
    "import sqlite3\n",
    "import numpy as np \n",
    "import pandas as pd"
   ]
  },
  {
   "cell_type": "code",
   "execution_count": 7,
   "id": "vietnamese-designer",
   "metadata": {},
   "outputs": [],
   "source": [
    "# Connecting to swllite file and querying the data\n",
    "\n",
    "\n",
    "conn = sqlite3.connect('FPA_FOD_20170508.sqlite')\n",
    "#conn.text_factory = str ## my current (failed) attempt to resolve this\n",
    "#cur = conn.cursor()\n",
    "#data = cur.execute(\"SELECT * FROM mytable\")\n",
    "fires = pd.read_sql_query(\"SELECT * FROM fires\", conn)\n",
    "\n"
   ]
  },
  {
   "cell_type": "code",
   "execution_count": 8,
   "id": "changed-undergraduate",
   "metadata": {},
   "outputs": [
    {
     "name": "stdout",
     "output_type": "stream",
     "text": [
      "(450234, 39)\n",
      "[2010 2011 2012 2013 2014 2015]\n",
      "OBJECTID                           0\n",
      "FOD_ID                             0\n",
      "FPA_ID                             0\n",
      "SOURCE_SYSTEM_TYPE                 0\n",
      "SOURCE_SYSTEM                      0\n",
      "NWCG_REPORTING_AGENCY              0\n",
      "NWCG_REPORTING_UNIT_ID             0\n",
      "NWCG_REPORTING_UNIT_NAME           0\n",
      "SOURCE_REPORTING_UNIT              0\n",
      "SOURCE_REPORTING_UNIT_NAME         0\n",
      "LOCAL_FIRE_REPORT_ID          359468\n",
      "LOCAL_INCIDENT_ID              96684\n",
      "FIRE_CODE                     353667\n",
      "FIRE_NAME                     113954\n",
      "ICS_209_INCIDENT_NUMBER       440383\n",
      "ICS_209_NAME                  440383\n",
      "MTBS_ID                       447201\n",
      "MTBS_FIRE_NAME                447201\n",
      "COMPLEX_NAME                  448445\n",
      "FIRE_YEAR                          0\n",
      "DISCOVERY_DATE                     0\n",
      "DISCOVERY_DOY                      0\n",
      "DISCOVERY_TIME                117651\n",
      "STAT_CAUSE_CODE                    0\n",
      "STAT_CAUSE_DESCR                   0\n",
      "CONT_DATE                     132984\n",
      "CONT_DOY                      132984\n",
      "CONT_TIME                     162016\n",
      "FIRE_SIZE                          0\n",
      "FIRE_SIZE_CLASS                    0\n",
      "LATITUDE                           0\n",
      "LONGITUDE                          0\n",
      "OWNER_CODE                         0\n",
      "OWNER_DESCR                        0\n",
      "STATE                              0\n",
      "COUNTY                         68875\n",
      "FIPS_CODE                      68875\n",
      "FIPS_NAME                      68875\n",
      "Shape                              0\n",
      "dtype: int64\n"
     ]
    }
   ],
   "source": [
    "# filter fires\n",
    "fires_df = fires[(fires['FIRE_YEAR'] > 2009)]\n",
    "fires_df.columns\n",
    "print(fires_df.shape)\n",
    "print(fires_df['FIRE_YEAR'].unique())\n",
    "print(fires_df.isnull().sum())"
   ]
  },
  {
   "cell_type": "code",
   "execution_count": 5,
   "id": "adapted-triumph",
   "metadata": {},
   "outputs": [
    {
     "name": "stdout",
     "output_type": "stream",
     "text": [
      "OBJECTID                      0\n",
      "FOD_ID                        0\n",
      "FPA_ID                        0\n",
      "SOURCE_SYSTEM_TYPE            0\n",
      "SOURCE_SYSTEM                 0\n",
      "NWCG_REPORTING_AGENCY         0\n",
      "NWCG_REPORTING_UNIT_ID        0\n",
      "NWCG_REPORTING_UNIT_NAME      0\n",
      "SOURCE_REPORTING_UNIT         0\n",
      "SOURCE_REPORTING_UNIT_NAME    0\n",
      "LOCAL_FIRE_REPORT_ID          0\n",
      "LOCAL_INCIDENT_ID             0\n",
      "FIRE_CODE                     0\n",
      "FIRE_NAME                     0\n",
      "ICS_209_INCIDENT_NUMBER       0\n",
      "ICS_209_NAME                  0\n",
      "MTBS_ID                       0\n",
      "MTBS_FIRE_NAME                0\n",
      "COMPLEX_NAME                  0\n",
      "FIRE_YEAR                     0\n",
      "DISCOVERY_DATE                0\n",
      "DISCOVERY_DOY                 0\n",
      "DISCOVERY_TIME                0\n",
      "STAT_CAUSE_CODE               0\n",
      "STAT_CAUSE_DESCR              0\n",
      "CONT_DATE                     0\n",
      "CONT_DOY                      0\n",
      "CONT_TIME                     0\n",
      "FIRE_SIZE                     0\n",
      "FIRE_SIZE_CLASS               0\n",
      "LATITUDE                      0\n",
      "LONGITUDE                     0\n",
      "OWNER_CODE                    0\n",
      "OWNER_DESCR                   0\n",
      "STATE                         0\n",
      "COUNTY                        0\n",
      "FIPS_CODE                     0\n",
      "FIPS_NAME                     0\n",
      "Shape                         0\n",
      "dtype: int64\n",
      "(161, 39)\n"
     ]
    }
   ],
   "source": [
    "# Dropping null valuesand reset the index\n",
    "\n",
    "# Remove two columns name is 'C' and 'D'\n",
    "#fires_df.drop(['LOCAL_FIRE_REPORT_ID', 'LOCAL_INCIDENT_ID','FIRE_CODE','FIRE_NAME','ICS_209_INCIDENT_NUMBER','ICS_209_NAME','MTBS_ID',\n",
    "            #'MTBS_FIRE_NAME','COMPLEX_NAME','DISCOVERY_TIME','DISCOVERY_TIME','CONT_DATE','CONT_DOY','CONT_TIME','FIPS_CODE','FIPS_NAME'], axis = 1, inplace=True)\n",
    "fires_df = fires_df.dropna()\n",
    "print(fires_df.isnull().sum())\n",
    "print(fires_df.shape)"
   ]
  },
  {
   "cell_type": "code",
   "execution_count": 9,
   "id": "reflected-gazette",
   "metadata": {},
   "outputs": [],
   "source": [
    "# converting to csv files\n",
    "fires_df.to_csv('wildfires_lastfiveyears.csv', sep=',')"
   ]
  },
  {
   "cell_type": "markdown",
   "id": "impaired-puzzle",
   "metadata": {},
   "source": [
    "# Air pollution data"
   ]
  },
  {
   "cell_type": "code",
   "execution_count": 6,
   "id": "crucial-slope",
   "metadata": {},
   "outputs": [
    {
     "name": "stdout",
     "output_type": "stream",
     "text": [
      "(1746661, 29)\n",
      "Unnamed: 0                0\n",
      "State Code                0\n",
      "County Code               0\n",
      "Site Num                  0\n",
      "Address                   0\n",
      "State                     0\n",
      "County                    0\n",
      "City                      0\n",
      "Date Local                0\n",
      "NO2 Units                 0\n",
      "NO2 Mean                  0\n",
      "NO2 1st Max Value         0\n",
      "NO2 1st Max Hour          0\n",
      "NO2 AQI                   0\n",
      "O3 Units                  0\n",
      "O3 Mean                   0\n",
      "O3 1st Max Value          0\n",
      "O3 1st Max Hour           0\n",
      "O3 AQI                    0\n",
      "SO2 Units                 0\n",
      "SO2 Mean                  0\n",
      "SO2 1st Max Value         0\n",
      "SO2 1st Max Hour          0\n",
      "SO2 AQI              872907\n",
      "CO Units                  0\n",
      "CO Mean                   0\n",
      "CO 1st Max Value          0\n",
      "CO 1st Max Hour           0\n",
      "CO AQI               873323\n",
      "dtype: int64\n"
     ]
    }
   ],
   "source": [
    "air_df = pd.read_csv('pollution_us_2000_2016.csv', header =0)\n",
    "print(air_df.shape)\n",
    "print(air_df.isnull().sum())"
   ]
  },
  {
   "cell_type": "code",
   "execution_count": 12,
   "id": "defined-rabbit",
   "metadata": {},
   "outputs": [],
   "source": [
    "# replace the states with state code\n",
    "air_df.loc[air_df[\"State\"] == \"Arizona\", \"StateID\"] = \"AZ\"\n",
    "air_df.loc[air_df[\"State\"] == \"Alabama\", \"StateID\"] = \"AL\"\n",
    "air_df.loc[air_df[\"State\"] == \"Alaska\", \"StateID\"] = \"AK\"\n",
    "air_df.loc[air_df[\"State\"] == \"Arkansas\", \"StateID\"] = \"AR\"\n",
    "air_df.loc[air_df[\"State\"] == \"California\", \"StateID\"] = \"CA\"\n",
    "air_df.loc[air_df[\"State\"] == \"Colorado\", \"StateID\"] = \"CO\"\n",
    "air_df.loc[air_df[\"State\"] == \"Connecticut\", \"StateID\"] = \"CT\"\n",
    "air_df.loc[air_df[\"State\"] == \"Delaware\", \"StateID\"] = \"DE\"\n",
    "air_df.loc[air_df[\"State\"] == \"Florida\", \"StateID\"] = \"FL\"\n",
    "air_df.loc[air_df[\"State\"] == \"Georgia\", \"StateID\"] = \"GA\"\n",
    "air_df.loc[air_df[\"State\"] == \"Hawaii\", \"StateID\"] = \"HI\"\n",
    "air_df.loc[air_df[\"State\"] == \"Idaho\", \"StateID\"] = \"ID\"\n",
    "air_df.loc[air_df[\"State\"] == \"illinois\", \"StateID\"] = \"IL\"\n",
    "air_df.loc[air_df[\"State\"] == \"Indiana\", \"StateID\"] = \"IN\"\n",
    "air_df.loc[air_df[\"State\"] == \"Iowa\", \"StateID\"] = \"IA\"\n",
    "air_df.loc[air_df[\"State\"] == \"Kansas\", \"StateID\"] = \"KS\"\n",
    "air_df.loc[air_df[\"State\"] == \"Kentucky\", \"StateID\"] = \"KY\"\n",
    "air_df.loc[air_df[\"State\"] == \"Louisiana\", \"StateID\"] = \"LA\"\n",
    "air_df.loc[air_df[\"State\"] == \"Maine\", \"StateID\"] = \"ME\"\n",
    "air_df.loc[air_df[\"State\"] == \"Maryland\", \"StateID\"] = \"MD\"\n",
    "air_df.loc[air_df[\"State\"] == \"Massachusetts\", \"StateID\"] = \"MA\"\n",
    "air_df.loc[air_df[\"State\"] == \"Michigan\", \"StateID\"] = \"MI\"\n",
    "air_df.loc[air_df[\"State\"] == \"Minnesota\", \"StateID\"] = \"MN\"\n",
    "air_df.loc[air_df[\"State\"] == \"Mississipi\", \"StateID\"] = \"MS\"\n",
    "air_df.loc[air_df[\"State\"] == \"Missouri\", \"StateID\"] = \"MO\"\n",
    "air_df.loc[air_df[\"State\"] == \"Montana\", \"StateID\"] = \"MT\"\n",
    "air_df.loc[air_df[\"State\"] == \"Nebraska\", \"StateID\"] = \"NE\"\n",
    "air_df.loc[air_df[\"State\"] == \"Nevada\", \"StateID\"] = \"NV\"\n",
    "air_df.loc[air_df[\"State\"] == \"New Hampshire\", \"StateID\"] = \"NH\"\n",
    "air_df.loc[air_df[\"State\"] == \"New Jersey\", \"StateID\"] = \"NJ\"\n",
    "air_df.loc[air_df[\"State\"] == \"New Mexico\", \"StateID\"] = \"NM\"\n",
    "air_df.loc[air_df[\"State\"] == \"New York\", \"StateID\"] = \"NY\"\n",
    "air_df.loc[air_df[\"State\"] == \"North Carolina\", \"StateID\"] = \"NC\"\n",
    "air_df.loc[air_df[\"State\"] == \"North Dakota\", \"StateID\"] = \"ND\"\n",
    "air_df.loc[air_df[\"State\"] == \"Ohio\", \"StateID\"] = \"OH\"\n",
    "air_df.loc[air_df[\"State\"] == \"Oklahoma\", \"StateID\"] = \"OK\"\n",
    "air_df.loc[air_df[\"State\"] == \"Oregon\", \"StateID\"] = \"OR\"\n",
    "air_df.loc[air_df[\"State\"] == \"Pennsylvania\", \"StateID\"] = \"PA\"\n",
    "air_df.loc[air_df[\"State\"] == \"Rhode Island\", \"StateID\"] = \"RI\"\n",
    "air_df.loc[air_df[\"State\"] == \"South Carolina\", \"StateID\"] = \"SC\"\n",
    "air_df.loc[air_df[\"State\"] == \"South Dakota\", \"StateID\"] = \"SD\"\n",
    "air_df.loc[air_df[\"State\"] == \"Tennessee\", \"StateID\"] = \"TN\"\n",
    "air_df.loc[air_df[\"State\"] == \"Texas\", \"StateID\"] = \"TX\"\n",
    "air_df.loc[air_df[\"State\"] == \"Utah\", \"StateID\"] = \"UT\"\n",
    "air_df.loc[air_df[\"State\"] == \"Vermont\", \"StateID\"] = \"VT\"\n",
    "air_df.loc[air_df[\"State\"] == \"Virginia\", \"StateID\"] = \"VA\"\n",
    "air_df.loc[air_df[\"State\"] == \"Washington\", \"StateID\"] = \"WA\"\n",
    "air_df.loc[air_df[\"State\"] == \"West virginia\", \"StateID\"] = \"WV\"\n",
    "air_df.loc[air_df[\"State\"] == \"Wisconsin\", \"StateID\"] = \"WI\"\n",
    "air_df.loc[air_df[\"State\"] == \"Wyoming\", \"StateID\"] = \"WY\"\n",
    "air_df.loc[air_df[\"State\"] == \"Wyoming\", \"StateID\"] = \"WY\"\n",
    "air_df.loc[air_df[\"State\"] == \"Wyoming\", \"StateID\"] = \"WY\""
   ]
  },
  {
   "cell_type": "code",
   "execution_count": 14,
   "id": "frank-korean",
   "metadata": {},
   "outputs": [],
   "source": [
    "air_df.to_csv('AirPollution_Filtered.csv', sep=',')"
   ]
  },
  {
   "cell_type": "code",
   "execution_count": 10,
   "id": "internal-colombia",
   "metadata": {},
   "outputs": [
    {
     "name": "stdout",
     "output_type": "stream",
     "text": [
      "(436876, 29)\n",
      "Unnamed: 0           0\n",
      "State Code           0\n",
      "County Code          0\n",
      "Site Num             0\n",
      "Address              0\n",
      "State                0\n",
      "County               0\n",
      "City                 0\n",
      "Date Local           0\n",
      "NO2 Units            0\n",
      "NO2 Mean             0\n",
      "NO2 1st Max Value    0\n",
      "NO2 1st Max Hour     0\n",
      "NO2 AQI              0\n",
      "O3 Units             0\n",
      "O3 Mean              0\n",
      "O3 1st Max Value     0\n",
      "O3 1st Max Hour      0\n",
      "O3 AQI               0\n",
      "SO2 Units            0\n",
      "SO2 Mean             0\n",
      "SO2 1st Max Value    0\n",
      "SO2 1st Max Hour     0\n",
      "SO2 AQI              0\n",
      "CO Units             0\n",
      "CO Mean              0\n",
      "CO 1st Max Value     0\n",
      "CO 1st Max Hour      0\n",
      "CO AQI               0\n",
      "dtype: int64\n"
     ]
    }
   ],
   "source": [
    "air_df = air_df.dropna()\n",
    "air_df = air_df.drop_duplicates()\n",
    "print(air_df.shape)\n",
    "print(air_df.isnull().sum())"
   ]
  },
  {
   "cell_type": "code",
   "execution_count": null,
   "id": "agricultural-wrist",
   "metadata": {},
   "outputs": [],
   "source": []
  }
 ],
 "metadata": {
  "kernelspec": {
   "display_name": "Python 3",
   "language": "python",
   "name": "python3"
  },
  "language_info": {
   "codemirror_mode": {
    "name": "ipython",
    "version": 3
   },
   "file_extension": ".py",
   "mimetype": "text/x-python",
   "name": "python",
   "nbconvert_exporter": "python",
   "pygments_lexer": "ipython3",
   "version": "3.9.1"
  }
 },
 "nbformat": 4,
 "nbformat_minor": 5
}
